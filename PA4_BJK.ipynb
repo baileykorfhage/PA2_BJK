{
 "cells": [
  {
   "cell_type": "markdown",
   "id": "38573e35",
   "metadata": {},
   "source": [
    "# Programming Assignment 2\n",
    "## Bailey Korfhage\n",
    "## Version 1\n",
    "## CS-150-01"
   ]
  },
  {
   "cell_type": "markdown",
   "id": "d1358038",
   "metadata": {},
   "source": [
    "# Lists"
   ]
  },
  {
   "cell_type": "markdown",
   "id": "fa5cc0bb",
   "metadata": {},
   "source": [
    "## Append() adds elements to a list at the end"
   ]
  },
  {
   "cell_type": "code",
   "execution_count": 1,
   "id": "1edf44ad",
   "metadata": {},
   "outputs": [
    {
     "data": {
      "text/plain": [
       "[]"
      ]
     },
     "execution_count": 1,
     "metadata": {},
     "output_type": "execute_result"
    }
   ],
   "source": [
    "nameslist=[]\n",
    "nameslist"
   ]
  },
  {
   "cell_type": "code",
   "execution_count": 2,
   "id": "d679c9a9",
   "metadata": {},
   "outputs": [
    {
     "data": {
      "text/plain": [
       "['Bailey']"
      ]
     },
     "execution_count": 2,
     "metadata": {},
     "output_type": "execute_result"
    }
   ],
   "source": [
    "nameslist.append('Bailey')\n",
    "nameslist"
   ]
  },
  {
   "cell_type": "markdown",
   "id": "83fbfda7",
   "metadata": {},
   "source": [
    "## Extend() adds another list to an existing one"
   ]
  },
  {
   "cell_type": "code",
   "execution_count": 3,
   "id": "1a5dbc14",
   "metadata": {},
   "outputs": [],
   "source": [
    "nameslist2=['Ryan', 'Samantha', 'Keith']"
   ]
  },
  {
   "cell_type": "code",
   "execution_count": 4,
   "id": "37ecc762",
   "metadata": {},
   "outputs": [
    {
     "data": {
      "text/plain": [
       "['Bailey', 'Ryan', 'Samantha', 'Keith']"
      ]
     },
     "execution_count": 4,
     "metadata": {},
     "output_type": "execute_result"
    }
   ],
   "source": [
    "nameslist.extend(nameslist2)\n",
    "nameslist"
   ]
  },
  {
   "cell_type": "markdown",
   "id": "87a16e70",
   "metadata": {},
   "source": [
    "## Insert() add an item to a list at a specific index"
   ]
  },
  {
   "cell_type": "code",
   "execution_count": 5,
   "id": "8738af6b",
   "metadata": {},
   "outputs": [
    {
     "data": {
      "text/plain": [
       "['Bailey', 'Ryan', 'Samantha', 'Keith', 'Beyonce']"
      ]
     },
     "execution_count": 5,
     "metadata": {},
     "output_type": "execute_result"
    }
   ],
   "source": [
    "nameslist.insert(5,'Beyonce')\n",
    "nameslist"
   ]
  },
  {
   "cell_type": "markdown",
   "id": "8514eed7",
   "metadata": {},
   "source": [
    "## Remove() takes out items in a list"
   ]
  },
  {
   "cell_type": "code",
   "execution_count": 6,
   "id": "1792ab6b",
   "metadata": {},
   "outputs": [
    {
     "data": {
      "text/plain": [
       "['Bailey', 'Ryan', 'Samantha', 'Beyonce']"
      ]
     },
     "execution_count": 6,
     "metadata": {},
     "output_type": "execute_result"
    }
   ],
   "source": [
    "nameslist.remove('Keith')\n",
    "nameslist"
   ]
  },
  {
   "cell_type": "markdown",
   "id": "e51336bc",
   "metadata": {},
   "source": [
    "## Count() counts the number of unique items in a list"
   ]
  },
  {
   "cell_type": "code",
   "execution_count": 7,
   "id": "2213b394",
   "metadata": {},
   "outputs": [
    {
     "data": {
      "text/plain": [
       "0"
      ]
     },
     "execution_count": 7,
     "metadata": {},
     "output_type": "execute_result"
    }
   ],
   "source": [
    "nameslist.count('Drew')"
   ]
  },
  {
   "cell_type": "markdown",
   "id": "3dd2525c",
   "metadata": {},
   "source": [
    "## Index() returns the position that a specified item is in"
   ]
  },
  {
   "cell_type": "code",
   "execution_count": 8,
   "id": "02b2f2c3",
   "metadata": {},
   "outputs": [
    {
     "data": {
      "text/plain": [
       "3"
      ]
     },
     "execution_count": 8,
     "metadata": {},
     "output_type": "execute_result"
    }
   ],
   "source": [
    "nameslist.index('Beyonce')"
   ]
  },
  {
   "cell_type": "markdown",
   "id": "96efca1d",
   "metadata": {},
   "source": [
    "## Pop() removes an item by returning the item and deleting it from the list"
   ]
  },
  {
   "cell_type": "code",
   "execution_count": 9,
   "id": "0f3abd0a",
   "metadata": {},
   "outputs": [
    {
     "data": {
      "text/plain": [
       "'Bailey'"
      ]
     },
     "execution_count": 9,
     "metadata": {},
     "output_type": "execute_result"
    }
   ],
   "source": [
    "nameslist.pop(0)"
   ]
  },
  {
   "cell_type": "code",
   "execution_count": 10,
   "id": "03b66b0e",
   "metadata": {},
   "outputs": [
    {
     "data": {
      "text/plain": [
       "['Ryan', 'Samantha', 'Beyonce']"
      ]
     },
     "execution_count": 10,
     "metadata": {},
     "output_type": "execute_result"
    }
   ],
   "source": [
    "nameslist"
   ]
  },
  {
   "cell_type": "markdown",
   "id": "3665cad6",
   "metadata": {},
   "source": [
    "## Sorted() temporarily sorts the list alphabetically"
   ]
  },
  {
   "cell_type": "code",
   "execution_count": 11,
   "id": "26b15827",
   "metadata": {},
   "outputs": [
    {
     "data": {
      "text/plain": [
       "['Beyonce', 'Ryan', 'Samantha']"
      ]
     },
     "execution_count": 11,
     "metadata": {},
     "output_type": "execute_result"
    }
   ],
   "source": [
    "sorted(nameslist)"
   ]
  },
  {
   "cell_type": "code",
   "execution_count": 12,
   "id": "fab0a6c4",
   "metadata": {},
   "outputs": [
    {
     "data": {
      "text/plain": [
       "['Ryan', 'Samantha', 'Beyonce']"
      ]
     },
     "execution_count": 12,
     "metadata": {},
     "output_type": "execute_result"
    }
   ],
   "source": [
    "nameslist"
   ]
  },
  {
   "cell_type": "markdown",
   "id": "9a274c30",
   "metadata": {},
   "source": [
    "## Copy() creates a copy of the list. Using this will allow a copy of a list without it being a reference to another"
   ]
  },
  {
   "cell_type": "code",
   "execution_count": 13,
   "id": "f24095cb",
   "metadata": {},
   "outputs": [
    {
     "data": {
      "text/plain": [
       "['Ryan', 'Samantha', 'Beyonce']"
      ]
     },
     "execution_count": 13,
     "metadata": {},
     "output_type": "execute_result"
    }
   ],
   "source": [
    "nameslist3=nameslist.copy()\n",
    "nameslist3"
   ]
  },
  {
   "cell_type": "code",
   "execution_count": 14,
   "id": "42b9d27b",
   "metadata": {},
   "outputs": [
    {
     "name": "stdout",
     "output_type": "stream",
     "text": [
      "['Ryan', 'Samantha', 'Beyonce', 'Gary']\n",
      "['Ryan', 'Samantha', 'Beyonce']\n"
     ]
    }
   ],
   "source": [
    "nameslist.append('Gary')\n",
    "print(nameslist)\n",
    "print(nameslist3)"
   ]
  },
  {
   "cell_type": "markdown",
   "id": "5c74b6d9",
   "metadata": {},
   "source": [
    "## Clear() empties out a list"
   ]
  },
  {
   "cell_type": "code",
   "execution_count": 15,
   "id": "8dc95ac0",
   "metadata": {},
   "outputs": [
    {
     "data": {
      "text/plain": [
       "['Ryan', 'Samantha', 'Beyonce', 'Gary']"
      ]
     },
     "execution_count": 15,
     "metadata": {},
     "output_type": "execute_result"
    }
   ],
   "source": [
    "nameslist3.clear()\n",
    "nameslist"
   ]
  },
  {
   "cell_type": "markdown",
   "id": "8a90e8b5",
   "metadata": {},
   "source": [
    "## The list() function converts string into a list"
   ]
  },
  {
   "cell_type": "code",
   "execution_count": 16,
   "id": "27e575bd",
   "metadata": {},
   "outputs": [
    {
     "name": "stdout",
     "output_type": "stream",
     "text": [
      "<class 'str'>\n"
     ]
    }
   ],
   "source": [
    "arethra='RESPECT'\n",
    "print(type(arethra))"
   ]
  },
  {
   "cell_type": "code",
   "execution_count": 17,
   "id": "cf23760c",
   "metadata": {},
   "outputs": [
    {
     "name": "stdout",
     "output_type": "stream",
     "text": [
      "['R', 'E', 'S', 'P', 'E', 'C', 'T']\n",
      "<class 'list'>\n"
     ]
    }
   ],
   "source": [
    "songlyric=list(arethra)\n",
    "print(songlyric)\n",
    "print(type(songlyric))"
   ]
  },
  {
   "cell_type": "markdown",
   "id": "aa7a3880",
   "metadata": {},
   "source": [
    "# Tuples"
   ]
  },
  {
   "cell_type": "markdown",
   "id": "2c23aafc",
   "metadata": {},
   "source": [
    "## The len() function tells you how many items are in a list"
   ]
  },
  {
   "cell_type": "code",
   "execution_count": 18,
   "id": "06a2bcf0",
   "metadata": {},
   "outputs": [
    {
     "data": {
      "text/plain": [
       "4"
      ]
     },
     "execution_count": 18,
     "metadata": {},
     "output_type": "execute_result"
    }
   ],
   "source": [
    "trees=('oak','Palm','Maple','Cherry')\n",
    "len(trees)"
   ]
  },
  {
   "cell_type": "markdown",
   "id": "01f4ea58",
   "metadata": {},
   "source": [
    "## The max() function tells you the maximum of a tuple. With letters, it goes from lowest to highest alphabetically with uppercase A as least and lowercase z as most"
   ]
  },
  {
   "cell_type": "code",
   "execution_count": 19,
   "id": "4a11fe0b",
   "metadata": {},
   "outputs": [
    {
     "data": {
      "text/plain": [
       "'Palm'"
      ]
     },
     "execution_count": 19,
     "metadata": {},
     "output_type": "execute_result"
    }
   ],
   "source": [
    "max(trees)"
   ]
  },
  {
   "cell_type": "markdown",
   "id": "ac8333d3",
   "metadata": {},
   "source": [
    "## The min() function tells you the minimum of a tuple"
   ]
  },
  {
   "cell_type": "code",
   "execution_count": 20,
   "id": "50c765df",
   "metadata": {},
   "outputs": [
    {
     "data": {
      "text/plain": [
       "'Cherry'"
      ]
     },
     "execution_count": 20,
     "metadata": {},
     "output_type": "execute_result"
    }
   ],
   "source": [
    "min(trees)"
   ]
  }
 ],
 "metadata": {
  "kernelspec": {
   "display_name": "Python 3 (ipykernel)",
   "language": "python",
   "name": "python3"
  },
  "language_info": {
   "codemirror_mode": {
    "name": "ipython",
    "version": 3
   },
   "file_extension": ".py",
   "mimetype": "text/x-python",
   "name": "python",
   "nbconvert_exporter": "python",
   "pygments_lexer": "ipython3",
   "version": "3.9.12"
  }
 },
 "nbformat": 4,
 "nbformat_minor": 5
}
